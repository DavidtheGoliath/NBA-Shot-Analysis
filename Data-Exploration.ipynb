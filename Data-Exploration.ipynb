{
 "cells": [
  {
   "cell_type": "code",
   "execution_count": 583,
   "metadata": {
    "extensions": {
     "jupyter_dashboards": {
      "version": 1,
      "views": {
       "grid_default": {
        "hidden": true
       },
       "report_default": {
        "hidden": true
       }
      }
     }
    },
    "scrolled": true
   },
   "outputs": [
    {
     "data": {
      "text/html": [
       "<script>requirejs.config({paths: { 'plotly': ['https://cdn.plot.ly/plotly-latest.min']},});if(!window.Plotly) {{require(['plotly'],function(plotly) {window.Plotly=plotly;});}}</script>"
      ],
      "text/vnd.plotly.v1+html": [
       "<script>requirejs.config({paths: { 'plotly': ['https://cdn.plot.ly/plotly-latest.min']},});if(!window.Plotly) {{require(['plotly'],function(plotly) {window.Plotly=plotly;});}}</script>"
      ]
     },
     "metadata": {},
     "output_type": "display_data"
    }
   ],
   "source": [
    "import matplotlib\n",
    "import matplotlib.pyplot as plt\n",
    "import seaborn as sns\n",
    "import numpy as np\n",
    "import pandas as pd\n",
    "pd.set_option('display.max_columns',100)\n",
    "\n",
    "import plotly\n",
    "import plotly.plotly as py\n",
    "import plotly.graph_objs as go\n",
    "plotly.offline.init_notebook_mode(connected=True)\n",
    "\n",
    "import warnings\n",
    "warnings.filterwarnings('ignore')\n",
    "from court import court_shapes\n",
    "\n",
    "import ipywidgets as widgets\n",
    "from ipywidgets import interact\n",
    "\n",
    "import itertools, math, time"
   ]
  },
  {
   "cell_type": "code",
   "execution_count": 589,
   "metadata": {
    "extensions": {
     "jupyter_dashboards": {
      "version": 1,
      "views": {
       "grid_default": {
        "hidden": true
       },
       "report_default": {
        "hidden": true
       }
      }
     }
    },
    "scrolled": true
   },
   "outputs": [],
   "source": [
    "oct_nov_ = pd.read_csv('./data/nba_savant/oct-nov-14-15.csv')\n",
    "dec_ = pd.read_csv('./data/nba_savant/dec-14-15.csv')\n",
    "jan_ = pd.read_csv('./data/nba_savant/jan-14-15.csv')\n",
    "feb_ = pd.read_csv('./data/nba_savant/feb-14-15.csv')\n",
    "mar_ = pd.read_csv('./data/nba_savant/mar-14-15.csv')\n",
    "apr_ = pd.read_csv('./data/nba_savant/apr-14-15.csv')"
   ]
  },
  {
   "cell_type": "code",
   "execution_count": 590,
   "metadata": {
    "extensions": {
     "jupyter_dashboards": {
      "version": 1,
      "views": {
       "grid_default": {
        "hidden": true
       },
       "report_default": {
        "hidden": true
       }
      }
     }
    },
    "scrolled": true
   },
   "outputs": [],
   "source": [
    "df = pd.concat([oct_nov_,dec_,jan_,feb_,mar_,apr_])\n",
    "#reverse x values to plot correctly\n",
    "df.x = -df.x\n",
    "df.game_date = pd.to_datetime(df.game_date)\n",
    "df = df.reset_index(drop=True)"
   ]
  },
  {
   "cell_type": "code",
   "execution_count": 591,
   "metadata": {
    "extensions": {
     "jupyter_dashboards": {
      "version": 1,
      "views": {
       "grid_default": {
        "hidden": true
       },
       "report_default": {
        "hidden": true
       }
      }
     }
    },
    "scrolled": true
   },
   "outputs": [],
   "source": [
    "stats = pd.read_excel('./data/adv-stats-14-15.xlsx',index_col=0)"
   ]
  },
  {
   "cell_type": "code",
   "execution_count": 592,
   "metadata": {
    "extensions": {
     "jupyter_dashboards": {
      "version": 1,
      "views": {
       "grid_default": {
        "hidden": true
       },
       "report_default": {
        "hidden": true
       }
      }
     }
    },
    "scrolled": true
   },
   "outputs": [],
   "source": [
    "# Clean up name discrepancies between two dfs\n",
    "import re\n",
    "stats.Player = stats.Player.apply(lambda x: re.sub(r'([^\\s\\w]|_)+', '', x))\n",
    "df.name[df.name=='Jose Juan Barea'] = 'JJ Barea'\n",
    "df.name[df.name=='Tim Hardaway Jr'] = 'Tim Hardaway'\n",
    "df.name[df.name=='Charles Hayes'] = 'Chuck Hayes'\n",
    "df.name[df.name=='Glen Rice Jr'] = 'Glen Rice'\n",
    "df.name[df.name=='Louis Williams'] = 'Lou Williams'\n",
    "\n",
    "stats.Player[stats.Player=='Nene Hilario'] = 'Nene'\n",
    "stats.Player[stats.Player=='Jeffery Taylor'] = 'Jeff Taylor'\n",
    "stats.Player[stats.Player== 'Luigi Datome'] = 'Gigi Datome'"
   ]
  },
  {
   "cell_type": "code",
   "execution_count": 593,
   "metadata": {},
   "outputs": [],
   "source": [
    "# #convert defender name to first name last name format\n",
    "# df.defender_name[df.defender_name.isnull()] = 'None'\n",
    "\n",
    "# def convert_defender_names(player):\n",
    "#     if player =='None':\n",
    "#         return 'None'\n",
    "#     elif player=='Nene':\n",
    "#         return 'Nene'\n",
    "#     else:\n",
    "#         name = player.split(', ')\n",
    "#         full_name = ' '.join((name[1],name[0]))\n",
    "#         return re.sub(r'([^\\s\\w]|_)+', '', full_name)\n",
    "    \n",
    "# df.defender_name = df.defender_name.apply(convert_defender_names)\n",
    "\n",
    "# # Clean up name discrepancies between two dfs\n",
    "# df.defender_name[df.defender_name=='Jose Juan Barea'] = 'JJ Barea'\n",
    "# df.defender_name[df.defender_name=='Tim Hardaway Jr'] = 'Tim Hardaway'\n",
    "# df.defender_name[df.defender_name=='Charles Hayes'] = 'Chuck Hayes'\n",
    "# df.defender_name[df.defender_name=='Glen Rice Jr'] = 'Glen Rice'\n",
    "# df.defender_name[df.defender_name=='Louis Williams'] = 'Lou Williams'"
   ]
  },
  {
   "cell_type": "code",
   "execution_count": 594,
   "metadata": {},
   "outputs": [],
   "source": [
    "# #map player ids to new df column matching to defender name\n",
    "# player_ids_df = df[['name','player_id']].rename(columns={'name':'defender_name','player_id':'defender_id'})\n",
    "# player_ids_df = player_ids_df.groupby('defender_name').max()\n",
    "\n",
    "# df = df.merge(player_ids_df, on='defender_name')"
   ]
  },
  {
   "cell_type": "code",
   "execution_count": 595,
   "metadata": {
    "extensions": {
     "jupyter_dashboards": {
      "version": 1,
      "views": {
       "grid_default": {
        "hidden": true
       },
       "report_default": {
        "hidden": true
       }
      }
     }
    },
    "scrolled": true
   },
   "outputs": [],
   "source": [
    "df.shot_type = np.where(df.shot_type=='2PT Field Goal', 2, 3)"
   ]
  },
  {
   "cell_type": "code",
   "execution_count": 596,
   "metadata": {
    "extensions": {
     "jupyter_dashboards": {
      "version": 1,
      "views": {
       "grid_default": {
        "hidden": true
       },
       "report_default": {}
      }
     }
    },
    "scrolled": true
   },
   "outputs": [],
   "source": [
    "def get_shot_distance(x,y):\n",
    "    x_squared=x**2\n",
    "    y_squared=y**2\n",
    "    shot_distance = math.sqrt(x_squared + y_squared) / 10  # unit for distance is off by factor of 10, divide by 10 to convert to feet\n",
    "    return round(shot_distance, 1)"
   ]
  },
  {
   "cell_type": "code",
   "execution_count": 598,
   "metadata": {
    "extensions": {
     "jupyter_dashboards": {
      "version": 1,
      "views": {
       "grid_default": {
        "hidden": true
       },
       "report_default": {}
      }
     }
    },
    "scrolled": true
   },
   "outputs": [],
   "source": [
    "def get_shot_zone(row):\n",
    "    x = row.x\n",
    "    y = row.y\n",
    "    \n",
    "    shot_zone = ''\n",
    "    shot_area = ''\n",
    "    \n",
    "    #restricted area, shots within 4ft of hoop\n",
    "    if get_shot_distance(x,y)<=4:\n",
    "        shot_zone = 'Restricted Area'\n",
    "       \n",
    "    #abov break 3 pointers\n",
    "    elif (get_shot_distance(x,y)>=23.9) & (y>=92.5):\n",
    "        shot_zone = 'Above Break 3'\n",
    "    #corner 3s    \n",
    "    elif (y<92.5) & ((x<=-220) | (x>=220)):\n",
    "        shot_zone = 'Corner 3'\n",
    "    #in the paint shots excluding restricted area  \n",
    "    elif (-80<=x<=80) & (-47.5<=y<=143.5) & (get_shot_distance(x,y)>4):\n",
    "        shot_zone = 'Paint'\n",
    "    #mid range shots, left and right side\n",
    "    elif (get_shot_distance(x,y)<23.9) & ((-220<x<-80) | (80<x<220)):\n",
    "        shot_zone = 'Mid Range'\n",
    "    #mid range shots, center (above foul line)\n",
    "    else:\n",
    "        shot_zone = 'Mid Range'\n",
    "    \n",
    "    #heaves (defined as shots 35+ feet from basket)\n",
    "    if get_shot_distance(x,y)>35:\n",
    "        shot_zone = 'Heave'\n",
    "    \n",
    "    #Get area of court (left, right, or center)\n",
    "    if shot_zone !='Paint':\n",
    "        if (x <= 80) & (x>=-80):\n",
    "            shot_area = 'C'\n",
    "        elif (x>80):\n",
    "            shot_area = 'L'\n",
    "        else:\n",
    "            shot_area = 'R'      \n",
    "    #for shots in paint, they have special designation for left, right, and center\n",
    "    else:\n",
    "        if x>40:\n",
    "            shot_area = 'L'\n",
    "        elif x<-40:\n",
    "            shot_area = 'R'\n",
    "        else:\n",
    "            shot_area = 'C'\n",
    "    return shot_zone, shot_area"
   ]
  },
  {
   "cell_type": "code",
   "execution_count": 599,
   "metadata": {
    "extensions": {
     "jupyter_dashboards": {
      "version": 1,
      "views": {
       "grid_default": {
        "hidden": true
       },
       "report_default": {}
      }
     }
    },
    "scrolled": true
   },
   "outputs": [],
   "source": [
    "def add_shot_zones_area_to_df(df):\n",
    "    shot_zones = []\n",
    "    shot_areas = []\n",
    "\n",
    "    for index, row in df.iterrows():\n",
    "        shot_zones.append(get_shot_zone(row)[0])\n",
    "        shot_areas.append(get_shot_zone(row)[1])\n",
    "\n",
    "    df['shot_zone'] = shot_zones\n",
    "    df['shot_area'] = shot_areas\n",
    "\n",
    "add_shot_zones_area_to_df(df)   "
   ]
  },
  {
   "cell_type": "code",
   "execution_count": 600,
   "metadata": {
    "extensions": {
     "jupyter_dashboards": {
      "version": 1,
      "views": {
       "grid_default": {
        "col": 0,
        "height": 10,
        "hidden": false,
        "row": 61,
        "width": 12
       },
       "report_default": {}
      }
     }
    },
    "scrolled": true
   },
   "outputs": [
    {
     "data": {
      "text/html": [
       "<div>\n",
       "<style scoped>\n",
       "    .dataframe tbody tr th:only-of-type {\n",
       "        vertical-align: middle;\n",
       "    }\n",
       "\n",
       "    .dataframe tbody tr th {\n",
       "        vertical-align: top;\n",
       "    }\n",
       "\n",
       "    .dataframe thead th {\n",
       "        text-align: right;\n",
       "    }\n",
       "</style>\n",
       "<table border=\"1\" class=\"dataframe\">\n",
       "  <thead>\n",
       "    <tr style=\"text-align: right;\">\n",
       "      <th></th>\n",
       "      <th>name</th>\n",
       "      <th>team_name</th>\n",
       "      <th>game_date</th>\n",
       "      <th>season</th>\n",
       "      <th>espn_player_id</th>\n",
       "      <th>team_id</th>\n",
       "      <th>espn_game_id</th>\n",
       "      <th>period</th>\n",
       "      <th>minutes_remaining</th>\n",
       "      <th>seconds_remaining</th>\n",
       "      <th>shot_made_flag</th>\n",
       "      <th>action_type</th>\n",
       "      <th>shot_type</th>\n",
       "      <th>shot_distance</th>\n",
       "      <th>opponent</th>\n",
       "      <th>x</th>\n",
       "      <th>y</th>\n",
       "      <th>dribbles</th>\n",
       "      <th>touch_time</th>\n",
       "      <th>defender_name</th>\n",
       "      <th>defender_distance</th>\n",
       "      <th>shot_clock</th>\n",
       "      <th>shot_zone</th>\n",
       "      <th>shot_area</th>\n",
       "    </tr>\n",
       "  </thead>\n",
       "  <tbody>\n",
       "    <tr>\n",
       "      <th>205545</th>\n",
       "      <td>Evan Turner</td>\n",
       "      <td>Boston Celtics</td>\n",
       "      <td>2015-04-08</td>\n",
       "      <td>2014</td>\n",
       "      <td>4239.0</td>\n",
       "      <td>1610612738</td>\n",
       "      <td>400579456.0</td>\n",
       "      <td>1</td>\n",
       "      <td>10</td>\n",
       "      <td>29</td>\n",
       "      <td>1</td>\n",
       "      <td>Turnaround Jump Shot</td>\n",
       "      <td>2</td>\n",
       "      <td>13</td>\n",
       "      <td>Detroit Pistons</td>\n",
       "      <td>114</td>\n",
       "      <td>64</td>\n",
       "      <td>5</td>\n",
       "      <td>4.3</td>\n",
       "      <td>Monroe, Greg</td>\n",
       "      <td>4.9</td>\n",
       "      <td>8.0</td>\n",
       "      <td>Mid Range</td>\n",
       "      <td>L</td>\n",
       "    </tr>\n",
       "    <tr>\n",
       "      <th>205546</th>\n",
       "      <td>PJ Tucker</td>\n",
       "      <td>Phoenix Suns</td>\n",
       "      <td>2015-04-08</td>\n",
       "      <td>2014</td>\n",
       "      <td>3033.0</td>\n",
       "      <td>1610612756</td>\n",
       "      <td>400579463.0</td>\n",
       "      <td>1</td>\n",
       "      <td>9</td>\n",
       "      <td>23</td>\n",
       "      <td>0</td>\n",
       "      <td>Turnaround Jump Shot</td>\n",
       "      <td>2</td>\n",
       "      <td>7</td>\n",
       "      <td>Dallas Mavericks</td>\n",
       "      <td>-73</td>\n",
       "      <td>26</td>\n",
       "      <td>1</td>\n",
       "      <td>1.6</td>\n",
       "      <td>Rondo, Rajon</td>\n",
       "      <td>2.9</td>\n",
       "      <td>17.7</td>\n",
       "      <td>Paint</td>\n",
       "      <td>R</td>\n",
       "    </tr>\n",
       "    <tr>\n",
       "      <th>205547</th>\n",
       "      <td>Dion Waiters</td>\n",
       "      <td>Oklahoma City Thunder</td>\n",
       "      <td>2015-04-01</td>\n",
       "      <td>2014</td>\n",
       "      <td>6628.0</td>\n",
       "      <td>1610612760</td>\n",
       "      <td>NaN</td>\n",
       "      <td>1</td>\n",
       "      <td>10</td>\n",
       "      <td>37</td>\n",
       "      <td>0</td>\n",
       "      <td>Turnaround Jump Shot</td>\n",
       "      <td>2</td>\n",
       "      <td>6</td>\n",
       "      <td>Dallas Mavericks</td>\n",
       "      <td>-67</td>\n",
       "      <td>-2</td>\n",
       "      <td>3</td>\n",
       "      <td>5.1</td>\n",
       "      <td>Nowitzki, Dirk</td>\n",
       "      <td>2.5</td>\n",
       "      <td>11.2</td>\n",
       "      <td>Paint</td>\n",
       "      <td>R</td>\n",
       "    </tr>\n",
       "    <tr>\n",
       "      <th>205548</th>\n",
       "      <td>Dante Exum</td>\n",
       "      <td>Utah Jazz</td>\n",
       "      <td>2015-04-08</td>\n",
       "      <td>2014</td>\n",
       "      <td>3102528.0</td>\n",
       "      <td>1610612762</td>\n",
       "      <td>400579462.0</td>\n",
       "      <td>1</td>\n",
       "      <td>2</td>\n",
       "      <td>58</td>\n",
       "      <td>0</td>\n",
       "      <td>Turnaround Jump Shot</td>\n",
       "      <td>2</td>\n",
       "      <td>8</td>\n",
       "      <td>Sacramento Kings</td>\n",
       "      <td>71</td>\n",
       "      <td>48</td>\n",
       "      <td>4</td>\n",
       "      <td>5.5</td>\n",
       "      <td>Landry, Carl</td>\n",
       "      <td>4.4</td>\n",
       "      <td>14.3</td>\n",
       "      <td>Paint</td>\n",
       "      <td>L</td>\n",
       "    </tr>\n",
       "    <tr>\n",
       "      <th>205549</th>\n",
       "      <td>Jason Smith</td>\n",
       "      <td>New York Knicks</td>\n",
       "      <td>2015-04-08</td>\n",
       "      <td>2014</td>\n",
       "      <td>3232.0</td>\n",
       "      <td>1610612752</td>\n",
       "      <td>400579457.0</td>\n",
       "      <td>2</td>\n",
       "      <td>3</td>\n",
       "      <td>32</td>\n",
       "      <td>1</td>\n",
       "      <td>Turnaround Jump Shot</td>\n",
       "      <td>2</td>\n",
       "      <td>7</td>\n",
       "      <td>Indiana Pacers</td>\n",
       "      <td>73</td>\n",
       "      <td>-24</td>\n",
       "      <td>4</td>\n",
       "      <td>5.1</td>\n",
       "      <td>Allen, Lavoy</td>\n",
       "      <td>4.7</td>\n",
       "      <td>3.7</td>\n",
       "      <td>Paint</td>\n",
       "      <td>L</td>\n",
       "    </tr>\n",
       "  </tbody>\n",
       "</table>\n",
       "</div>"
      ],
      "text/plain": [
       "                name              team_name  game_date  season  \\\n",
       "205545   Evan Turner         Boston Celtics 2015-04-08    2014   \n",
       "205546     PJ Tucker           Phoenix Suns 2015-04-08    2014   \n",
       "205547  Dion Waiters  Oklahoma City Thunder 2015-04-01    2014   \n",
       "205548    Dante Exum              Utah Jazz 2015-04-08    2014   \n",
       "205549   Jason Smith        New York Knicks 2015-04-08    2014   \n",
       "\n",
       "        espn_player_id     team_id  espn_game_id  period  minutes_remaining  \\\n",
       "205545          4239.0  1610612738   400579456.0       1                 10   \n",
       "205546          3033.0  1610612756   400579463.0       1                  9   \n",
       "205547          6628.0  1610612760           NaN       1                 10   \n",
       "205548       3102528.0  1610612762   400579462.0       1                  2   \n",
       "205549          3232.0  1610612752   400579457.0       2                  3   \n",
       "\n",
       "        seconds_remaining  shot_made_flag           action_type  shot_type  \\\n",
       "205545                 29               1  Turnaround Jump Shot          2   \n",
       "205546                 23               0  Turnaround Jump Shot          2   \n",
       "205547                 37               0  Turnaround Jump Shot          2   \n",
       "205548                 58               0  Turnaround Jump Shot          2   \n",
       "205549                 32               1  Turnaround Jump Shot          2   \n",
       "\n",
       "        shot_distance          opponent    x   y  dribbles  touch_time  \\\n",
       "205545             13   Detroit Pistons  114  64         5         4.3   \n",
       "205546              7  Dallas Mavericks  -73  26         1         1.6   \n",
       "205547              6  Dallas Mavericks  -67  -2         3         5.1   \n",
       "205548              8  Sacramento Kings   71  48         4         5.5   \n",
       "205549              7    Indiana Pacers   73 -24         4         5.1   \n",
       "\n",
       "         defender_name  defender_distance  shot_clock  shot_zone shot_area  \n",
       "205545    Monroe, Greg                4.9         8.0  Mid Range         L  \n",
       "205546    Rondo, Rajon                2.9        17.7      Paint         R  \n",
       "205547  Nowitzki, Dirk                2.5        11.2      Paint         R  \n",
       "205548    Landry, Carl                4.4        14.3      Paint         L  \n",
       "205549    Allen, Lavoy                4.7         3.7      Paint         L  "
      ]
     },
     "execution_count": 600,
     "metadata": {},
     "output_type": "execute_result"
    }
   ],
   "source": [
    "df.tail()"
   ]
  },
  {
   "cell_type": "code",
   "execution_count": 601,
   "metadata": {
    "extensions": {
     "jupyter_dashboards": {
      "version": 1,
      "views": {
       "grid_default": {
        "hidden": true
       },
       "report_default": {}
      }
     }
    },
    "scrolled": true
   },
   "outputs": [],
   "source": [
    "def get_lg_avgs(shot_zone_area_tup, df):\n",
    "    sz = shot_zone_area_tup[0]\n",
    "    sa = shot_zone_area_tup[1]\n",
    "    shots_made = len(df[(df.shot_zone==sz) & (df.shot_area==sa) & (df.shot_made_flag==1)])\n",
    "    total_shots = len(df[(df.shot_zone==sz) & (df.shot_area==sa)])\n",
    "    if total_shots ==0:\n",
    "        make_pct = 0\n",
    "    else:\n",
    "        make_pct = round((shots_made / total_shots),4)\n",
    "    return make_pct"
   ]
  },
  {
   "cell_type": "code",
   "execution_count": 602,
   "metadata": {
    "extensions": {
     "jupyter_dashboards": {
      "version": 1,
      "views": {
       "grid_default": {
        "hidden": true
       },
       "report_default": {}
      }
     }
    },
    "scrolled": true
   },
   "outputs": [],
   "source": [
    "sz = set(shot_zones)\n",
    "sa = set(shot_areas)\n",
    "sza_tups = list(itertools.product(sz,sa))\n",
    "\n",
    "sza_dict = {}\n",
    "for sza in sza_tups:\n",
    "    sza_dict[sza] = get_lg_avgs(sza, df)"
   ]
  },
  {
   "cell_type": "code",
   "execution_count": 603,
   "metadata": {
    "scrolled": true
   },
   "outputs": [],
   "source": [
    "def add_lg_avg_to_df(df):\n",
    "    df['lg_avg']=0\n",
    "    for k,v in sza_dict.items():\n",
    "        df['lg_avg'] = np.where((df.shot_zone==k[0]) & (df.shot_area==k[1]), v, df['lg_avg'])"
   ]
  },
  {
   "cell_type": "code",
   "execution_count": 604,
   "metadata": {
    "scrolled": true
   },
   "outputs": [],
   "source": [
    "add_lg_avg_to_df(df)"
   ]
  },
  {
   "cell_type": "code",
   "execution_count": 607,
   "metadata": {
    "extensions": {
     "jupyter_dashboards": {
      "version": 1,
      "views": {
       "grid_default": {
        "hidden": true
       },
       "report_default": {}
      }
     }
    },
    "scrolled": true
   },
   "outputs": [],
   "source": [
    "def create_team_ids(df):\n",
    "    team_id_dict = {}\n",
    "    for id_, team in enumerate(list(set(df.team_name))):\n",
    "        team_id_dict[team]=id_+1\n",
    "\n",
    "    df['opp_id']=0\n",
    "    #get team ids from 1-30\n",
    "    for k,v in team_id_dict.items():\n",
    "        df['team_id'] = np.where(df.team_name==k, v, df['team_id'])\n",
    "        df['opp_id'] = np.where(df.opponent==k, v, df['opp_id'])\n",
    "    return team_id_dict\n",
    "\n",
    "create_team_ids(df)"
   ]
  },
  {
   "cell_type": "code",
   "execution_count": 608,
   "metadata": {
    "scrolled": true
   },
   "outputs": [],
   "source": [
    "#df.groupby(by=['game_date','team_id','opp_id']).mean()"
   ]
  },
  {
   "cell_type": "code",
   "execution_count": 609,
   "metadata": {},
   "outputs": [],
   "source": [
    "nba_shots = pd.read_csv('./data/shots_1415.csv',index_col=0)\n",
    "nba_shots.GAME_DATE = nba_shots.GAME_DATE.astype('str')\n",
    "\n",
    "#Adds dashes to date string so it can be converted to datetime format\n",
    "def add_dashes(string):\n",
    "    date = string[:4] + '-' + string[4:6] + '-' + string[-2:]\n",
    "    return date\n",
    "\n",
    "nba_shots.GAME_DATE = nba_shots.GAME_DATE.apply(lambda x: add_dashes(x))\n",
    "nba_shots.GAME_DATE = pd.to_datetime(nba_shots.GAME_DATE)\n",
    "nba_shots.LOC_X = -nba_shots.LOC_X"
   ]
  },
  {
   "cell_type": "markdown",
   "metadata": {},
   "source": [
    "### Merge Dataframes"
   ]
  },
  {
   "cell_type": "code",
   "execution_count": 610,
   "metadata": {},
   "outputs": [],
   "source": [
    "merged_df = df.merge(nba_shots, left_on=['team_name','game_date','period','minutes_remaining','seconds_remaining','x','y'],\n",
    "              right_on=['TEAM_NAME','GAME_DATE','PERIOD','MINUTES_REMAINING','SECONDS_REMAINING','LOC_X','LOC_Y'])\n",
    "\n",
    "merged_df = merged_df.drop(columns=['GRID_TYPE','PLAYER_NAME', 'TEAM_ID', 'TEAM_NAME', 'PERIOD', 'MINUTES_REMAINING',\n",
    "       'SECONDS_REMAINING','SHOT_DISTANCE','LOC_X', 'LOC_Y', 'SHOT_ATTEMPTED_FLAG', 'SHOT_MADE_FLAG', 'GAME_DATE',\n",
    "       'espn_player_id', 'espn_game_id', 'EVENT_TYPE','ACTION_TYPE', 'SHOT_TYPE','SHOT_ZONE_BASIC',\n",
    "       'SHOT_ZONE_AREA', 'SHOT_ZONE_RANGE'])"
   ]
  },
  {
   "cell_type": "code",
   "execution_count": 611,
   "metadata": {
    "scrolled": true
   },
   "outputs": [],
   "source": [
    "#get dictionary matching team names to home and away team acronyms\n",
    "def create_home_acronym_dict():\n",
    "    team_acronyms = sorted(list(merged_df.HTM.unique()))\n",
    "    team_names = sorted(list(merged_df.team_name.unique()))\n",
    "\n",
    "    team_name_ac_dict = dict(zip(team_names,team_acronyms))\n",
    "    team_name_ac_dict['Boston Celtics'] = 'BOS'\n",
    "    team_name_ac_dict['Brooklyn Nets'] = 'BKN'\n",
    "    return team_name_ac_dict"
   ]
  },
  {
   "cell_type": "code",
   "execution_count": 612,
   "metadata": {
    "scrolled": false
   },
   "outputs": [
    {
     "name": "stdout",
     "output_type": "stream",
     "text": [
      "Runtime: 2.05 seconds. 205539 iterations to go.\n",
      "Runtime: 8.47 seconds. 155539 iterations to go.\n",
      "Runtime: 16.45 seconds. 105539 iterations to go.\n",
      "Runtime: 23.53 seconds. 55539 iterations to go.\n",
      "Runtime: 31.85 seconds. 5539 iterations to go.\n"
     ]
    }
   ],
   "source": [
    "def get_home_team():\n",
    "    start = time.time()\n",
    "    is_home_arr = []\n",
    "\n",
    "    team_name_ac_dict=create_home_acronym_dict()\n",
    "\n",
    "    for index, row in merged_df.iterrows():\n",
    "        if team_name_ac_dict[row.team_name]==row.HTM:\n",
    "            is_home_arr.append(1)\n",
    "        else:\n",
    "            is_home_arr.append(0)\n",
    "        if index%50000==0:\n",
    "            print('Runtime: {} seconds. {} iterations to go.'.format(round(time.time()-start,2), len(merged_df)-index))\n",
    "    return is_home_arr\n",
    "\n",
    "merged_df['is_home'] = get_home_team()"
   ]
  },
  {
   "cell_type": "code",
   "execution_count": 613,
   "metadata": {
    "scrolled": true
   },
   "outputs": [],
   "source": [
    "#sort the dataframe by date, game_id, player_name, and game_event_id\n",
    "sorted_df = merged_df.copy().sort_values(by=['game_date','GAME_ID','name','GAME_EVENT_ID']).reset_index(drop=True)\n",
    "\n",
    "#adds to dataframe whether player has hit previous 1, 2, or 3 shots\n",
    "def is_player_hot(dataframe):\n",
    "    start=time.time()\n",
    "\n",
    "    df = dataframe\n",
    "    #create array that stores whether previous 1, 2, or 3 shots were made, respectively\n",
    "    heat_check_array=np.zeros((len(df),3))\n",
    "\n",
    "    for index, row in df.iterrows():\n",
    "        if index==0:\n",
    "            heat_check_array[index,:]+=[0,0,0]\n",
    "        elif index==1:\n",
    "            if (df.name[index]==df.name[index-1]) & (row.GAME_ID==df.GAME_ID[index-1]) & (df.shot_made_flag[index-1]==1):\n",
    "                heat_check_array[index,:]+=[1,0,0]\n",
    "            else:\n",
    "                heat_check_array[index,:]+=[0,0,0]\n",
    "        elif index==2:\n",
    "            if (df.name[index]==df.name[index-1]) & (df.name[index]==df.name[index-2]) & (row.GAME_ID==df.GAME_ID[index-1]) & (df.shot_made_flag[index-1]==1) & (df.shot_made_flag[index-2]==1):\n",
    "                heat_check_array[index,:]+=[1,1,0]\n",
    "            elif (df.name[index]==df.name[index-1]) & (row.GAME_ID==df.GAME_ID[index-1]) & (df.shot_made_flag[index-1]==1) & (df.shot_made_flag[index-2]==0):\n",
    "                heat_check_array[index,:]+=[1,0,0]\n",
    "            else:\n",
    "                heat_check_array[index,:]+=[0,0,0]\n",
    "        else:\n",
    "            if (df.name[index]==df.name[index-1]) & (df.name[index]==df.name[index-2]) & (df.name[index]==df.name[index-2]) & (row.GAME_ID==df.GAME_ID[index-1]) & (df.shot_made_flag[index-1]==1) & (df.shot_made_flag[index-2]==1) & (df.shot_made_flag[index-3]==1):\n",
    "                heat_check_array[index,:]+=[1,1,1]\n",
    "            elif (df.name[index]==df.name[index-1]) & (df.name[index]==df.name[index-2]) & (row.GAME_ID==df.GAME_ID[index-1]) & (df.shot_made_flag[index-1]==1) & (df.shot_made_flag[index-2]==1) & (df.shot_made_flag[index-3]==0):\n",
    "                heat_check_array[index,:]+=[1,1,0]\n",
    "            elif (df.name[index]==df.name[index-1]) & (row.GAME_ID==df.GAME_ID[index-1]) & (df.shot_made_flag[index-1]==1):\n",
    "                heat_check_array[index,:]+=[1,0,0]\n",
    "            else:\n",
    "                heat_check_array[index,:]+=[0,0,0]\n",
    "\n",
    "        if index%50000==0:\n",
    "            print('Runtime: {} seconds. {} iterations remaining.'.format(round(time.time()-start,2),len(df)-index))\n",
    "\n",
    "    return heat_check_array"
   ]
  },
  {
   "cell_type": "code",
   "execution_count": 614,
   "metadata": {
    "scrolled": true
   },
   "outputs": [
    {
     "name": "stdout",
     "output_type": "stream",
     "text": [
      "Runtime: 2.21 seconds. 205539 iterations remaining.\n",
      "Runtime: 38.93 seconds. 155539 iterations remaining.\n",
      "Runtime: 75.29 seconds. 105539 iterations remaining.\n",
      "Runtime: 117.37 seconds. 55539 iterations remaining.\n",
      "Runtime: 157.18 seconds. 5539 iterations remaining.\n"
     ]
    }
   ],
   "source": [
    "heat_check_array = is_player_hot(sorted_df)"
   ]
  },
  {
   "cell_type": "code",
   "execution_count": 632,
   "metadata": {},
   "outputs": [
    {
     "data": {
      "text/html": [
       "<div>\n",
       "<style scoped>\n",
       "    .dataframe tbody tr th:only-of-type {\n",
       "        vertical-align: middle;\n",
       "    }\n",
       "\n",
       "    .dataframe tbody tr th {\n",
       "        vertical-align: top;\n",
       "    }\n",
       "\n",
       "    .dataframe thead th {\n",
       "        text-align: right;\n",
       "    }\n",
       "</style>\n",
       "<table border=\"1\" class=\"dataframe\">\n",
       "  <thead>\n",
       "    <tr style=\"text-align: right;\">\n",
       "      <th></th>\n",
       "      <th>name</th>\n",
       "      <th>shot_made_flag</th>\n",
       "      <th>prev_shot_made</th>\n",
       "      <th>prev_2_made</th>\n",
       "      <th>prev_3_made</th>\n",
       "      <th>game_date</th>\n",
       "      <th>GAME_EVENT_ID</th>\n",
       "    </tr>\n",
       "  </thead>\n",
       "  <tbody>\n",
       "    <tr>\n",
       "      <th>210</th>\n",
       "      <td>Cory Joseph</td>\n",
       "      <td>1</td>\n",
       "      <td>0.0</td>\n",
       "      <td>0.0</td>\n",
       "      <td>0.0</td>\n",
       "      <td>2014-10-28</td>\n",
       "      <td>380</td>\n",
       "    </tr>\n",
       "    <tr>\n",
       "      <th>211</th>\n",
       "      <td>Cory Joseph</td>\n",
       "      <td>1</td>\n",
       "      <td>1.0</td>\n",
       "      <td>0.0</td>\n",
       "      <td>0.0</td>\n",
       "      <td>2014-10-28</td>\n",
       "      <td>387</td>\n",
       "    </tr>\n",
       "    <tr>\n",
       "      <th>212</th>\n",
       "      <td>Danny Green</td>\n",
       "      <td>0</td>\n",
       "      <td>0.0</td>\n",
       "      <td>0.0</td>\n",
       "      <td>0.0</td>\n",
       "      <td>2014-10-28</td>\n",
       "      <td>9</td>\n",
       "    </tr>\n",
       "    <tr>\n",
       "      <th>213</th>\n",
       "      <td>Danny Green</td>\n",
       "      <td>1</td>\n",
       "      <td>0.0</td>\n",
       "      <td>0.0</td>\n",
       "      <td>0.0</td>\n",
       "      <td>2014-10-28</td>\n",
       "      <td>15</td>\n",
       "    </tr>\n",
       "    <tr>\n",
       "      <th>214</th>\n",
       "      <td>Danny Green</td>\n",
       "      <td>1</td>\n",
       "      <td>1.0</td>\n",
       "      <td>0.0</td>\n",
       "      <td>0.0</td>\n",
       "      <td>2014-10-28</td>\n",
       "      <td>102</td>\n",
       "    </tr>\n",
       "    <tr>\n",
       "      <th>215</th>\n",
       "      <td>Danny Green</td>\n",
       "      <td>1</td>\n",
       "      <td>1.0</td>\n",
       "      <td>1.0</td>\n",
       "      <td>0.0</td>\n",
       "      <td>2014-10-28</td>\n",
       "      <td>132</td>\n",
       "    </tr>\n",
       "    <tr>\n",
       "      <th>216</th>\n",
       "      <td>Danny Green</td>\n",
       "      <td>0</td>\n",
       "      <td>1.0</td>\n",
       "      <td>1.0</td>\n",
       "      <td>1.0</td>\n",
       "      <td>2014-10-28</td>\n",
       "      <td>150</td>\n",
       "    </tr>\n",
       "    <tr>\n",
       "      <th>217</th>\n",
       "      <td>Danny Green</td>\n",
       "      <td>0</td>\n",
       "      <td>0.0</td>\n",
       "      <td>0.0</td>\n",
       "      <td>0.0</td>\n",
       "      <td>2014-10-28</td>\n",
       "      <td>175</td>\n",
       "    </tr>\n",
       "    <tr>\n",
       "      <th>218</th>\n",
       "      <td>Danny Green</td>\n",
       "      <td>1</td>\n",
       "      <td>0.0</td>\n",
       "      <td>0.0</td>\n",
       "      <td>0.0</td>\n",
       "      <td>2014-10-28</td>\n",
       "      <td>259</td>\n",
       "    </tr>\n",
       "    <tr>\n",
       "      <th>219</th>\n",
       "      <td>Danny Green</td>\n",
       "      <td>0</td>\n",
       "      <td>1.0</td>\n",
       "      <td>0.0</td>\n",
       "      <td>0.0</td>\n",
       "      <td>2014-10-28</td>\n",
       "      <td>284</td>\n",
       "    </tr>\n",
       "  </tbody>\n",
       "</table>\n",
       "</div>"
      ],
      "text/plain": [
       "            name  shot_made_flag  prev_shot_made  prev_2_made  prev_3_made  \\\n",
       "210  Cory Joseph               1             0.0          0.0          0.0   \n",
       "211  Cory Joseph               1             1.0          0.0          0.0   \n",
       "212  Danny Green               0             0.0          0.0          0.0   \n",
       "213  Danny Green               1             0.0          0.0          0.0   \n",
       "214  Danny Green               1             1.0          0.0          0.0   \n",
       "215  Danny Green               1             1.0          1.0          0.0   \n",
       "216  Danny Green               0             1.0          1.0          1.0   \n",
       "217  Danny Green               0             0.0          0.0          0.0   \n",
       "218  Danny Green               1             0.0          0.0          0.0   \n",
       "219  Danny Green               0             1.0          0.0          0.0   \n",
       "\n",
       "     game_date  GAME_EVENT_ID  \n",
       "210 2014-10-28            380  \n",
       "211 2014-10-28            387  \n",
       "212 2014-10-28              9  \n",
       "213 2014-10-28             15  \n",
       "214 2014-10-28            102  \n",
       "215 2014-10-28            132  \n",
       "216 2014-10-28            150  \n",
       "217 2014-10-28            175  \n",
       "218 2014-10-28            259  \n",
       "219 2014-10-28            284  "
      ]
     },
     "execution_count": 632,
     "metadata": {},
     "output_type": "execute_result"
    }
   ],
   "source": [
    "#add heat check stats to dataframe\n",
    "sorted_df['prev_shot_made'] = heat_check_array[:,0]\n",
    "sorted_df['prev_2_made'] = heat_check_array[:,1]\n",
    "sorted_df['prev_3_made'] = heat_check_array[:,2]\n",
    "sorted_df[210:220][['name','shot_made_flag','prev_shot_made','prev_2_made','prev_3_made','game_date','GAME_EVENT_ID']]"
   ]
  },
  {
   "cell_type": "code",
   "execution_count": 37,
   "metadata": {
    "scrolled": true
   },
   "outputs": [
    {
     "data": {
      "text/html": [
       "<div>\n",
       "<style scoped>\n",
       "    .dataframe tbody tr th:only-of-type {\n",
       "        vertical-align: middle;\n",
       "    }\n",
       "\n",
       "    .dataframe tbody tr th {\n",
       "        vertical-align: top;\n",
       "    }\n",
       "\n",
       "    .dataframe thead th {\n",
       "        text-align: right;\n",
       "    }\n",
       "</style>\n",
       "<table border=\"1\" class=\"dataframe\">\n",
       "  <thead>\n",
       "    <tr style=\"text-align: right;\">\n",
       "      <th></th>\n",
       "      <th>name</th>\n",
       "      <th>team_name</th>\n",
       "      <th>game_date</th>\n",
       "      <th>season</th>\n",
       "      <th>team_id</th>\n",
       "      <th>period</th>\n",
       "      <th>minutes_remaining</th>\n",
       "      <th>seconds_remaining</th>\n",
       "      <th>shot_made_flag</th>\n",
       "      <th>action_type</th>\n",
       "      <th>shot_type</th>\n",
       "      <th>shot_distance</th>\n",
       "      <th>opponent</th>\n",
       "      <th>x</th>\n",
       "      <th>y</th>\n",
       "      <th>dribbles</th>\n",
       "      <th>touch_time</th>\n",
       "      <th>defender_name</th>\n",
       "      <th>defender_distance</th>\n",
       "      <th>shot_clock</th>\n",
       "      <th>shot_zone</th>\n",
       "      <th>shot_area</th>\n",
       "      <th>lg_avg</th>\n",
       "      <th>opp_id</th>\n",
       "      <th>GAME_ID</th>\n",
       "      <th>GAME_EVENT_ID</th>\n",
       "      <th>PLAYER_ID</th>\n",
       "      <th>HTM</th>\n",
       "      <th>VTM</th>\n",
       "      <th>is_home</th>\n",
       "      <th>prev_shot_made</th>\n",
       "      <th>prev_2_made</th>\n",
       "      <th>prev_3_made</th>\n",
       "    </tr>\n",
       "  </thead>\n",
       "  <tbody>\n",
       "    <tr>\n",
       "      <th>0</th>\n",
       "      <td>Aaron Gordon</td>\n",
       "      <td>Orlando Magic</td>\n",
       "      <td>2014-10-28</td>\n",
       "      <td>2014</td>\n",
       "      <td>10</td>\n",
       "      <td>2</td>\n",
       "      <td>11</td>\n",
       "      <td>34</td>\n",
       "      <td>1</td>\n",
       "      <td>Jump Shot</td>\n",
       "      <td>2</td>\n",
       "      <td>4</td>\n",
       "      <td>New Orleans Pelicans</td>\n",
       "      <td>-10</td>\n",
       "      <td>44</td>\n",
       "      <td>4</td>\n",
       "      <td>5.1</td>\n",
       "      <td>Anderson, Ryan</td>\n",
       "      <td>3.9</td>\n",
       "      <td>0.6</td>\n",
       "      <td>Paint</td>\n",
       "      <td>C</td>\n",
       "      <td>0.4011</td>\n",
       "      <td>13</td>\n",
       "      <td>21400001</td>\n",
       "      <td>164</td>\n",
       "      <td>203932</td>\n",
       "      <td>NOP</td>\n",
       "      <td>ORL</td>\n",
       "      <td>0</td>\n",
       "      <td>0</td>\n",
       "      <td>0</td>\n",
       "      <td>0</td>\n",
       "    </tr>\n",
       "    <tr>\n",
       "      <th>1</th>\n",
       "      <td>Aaron Gordon</td>\n",
       "      <td>Orlando Magic</td>\n",
       "      <td>2014-10-28</td>\n",
       "      <td>2014</td>\n",
       "      <td>10</td>\n",
       "      <td>2</td>\n",
       "      <td>9</td>\n",
       "      <td>13</td>\n",
       "      <td>1</td>\n",
       "      <td>Jump Shot</td>\n",
       "      <td>3</td>\n",
       "      <td>23</td>\n",
       "      <td>New Orleans Pelicans</td>\n",
       "      <td>-233</td>\n",
       "      <td>20</td>\n",
       "      <td>0</td>\n",
       "      <td>0.7</td>\n",
       "      <td>Evans, Tyreke</td>\n",
       "      <td>4.3</td>\n",
       "      <td>7.4</td>\n",
       "      <td>Corner 3</td>\n",
       "      <td>R</td>\n",
       "      <td>0.3915</td>\n",
       "      <td>13</td>\n",
       "      <td>21400001</td>\n",
       "      <td>198</td>\n",
       "      <td>203932</td>\n",
       "      <td>NOP</td>\n",
       "      <td>ORL</td>\n",
       "      <td>0</td>\n",
       "      <td>1</td>\n",
       "      <td>0</td>\n",
       "      <td>0</td>\n",
       "    </tr>\n",
       "    <tr>\n",
       "      <th>2</th>\n",
       "      <td>Aaron Gordon</td>\n",
       "      <td>Orlando Magic</td>\n",
       "      <td>2014-10-28</td>\n",
       "      <td>2014</td>\n",
       "      <td>10</td>\n",
       "      <td>2</td>\n",
       "      <td>2</td>\n",
       "      <td>55</td>\n",
       "      <td>0</td>\n",
       "      <td>Jump Shot</td>\n",
       "      <td>3</td>\n",
       "      <td>23</td>\n",
       "      <td>New Orleans Pelicans</td>\n",
       "      <td>-234</td>\n",
       "      <td>0</td>\n",
       "      <td>0</td>\n",
       "      <td>0.9</td>\n",
       "      <td>Gordon, Eric</td>\n",
       "      <td>12.5</td>\n",
       "      <td>14.8</td>\n",
       "      <td>Corner 3</td>\n",
       "      <td>R</td>\n",
       "      <td>0.3915</td>\n",
       "      <td>13</td>\n",
       "      <td>21400001</td>\n",
       "      <td>275</td>\n",
       "      <td>203932</td>\n",
       "      <td>NOP</td>\n",
       "      <td>ORL</td>\n",
       "      <td>0</td>\n",
       "      <td>1</td>\n",
       "      <td>1</td>\n",
       "      <td>0</td>\n",
       "    </tr>\n",
       "    <tr>\n",
       "      <th>3</th>\n",
       "      <td>Aaron Gordon</td>\n",
       "      <td>Orlando Magic</td>\n",
       "      <td>2014-10-28</td>\n",
       "      <td>2014</td>\n",
       "      <td>10</td>\n",
       "      <td>3</td>\n",
       "      <td>5</td>\n",
       "      <td>1</td>\n",
       "      <td>1</td>\n",
       "      <td>Jump Shot</td>\n",
       "      <td>2</td>\n",
       "      <td>5</td>\n",
       "      <td>New Orleans Pelicans</td>\n",
       "      <td>-9</td>\n",
       "      <td>58</td>\n",
       "      <td>2</td>\n",
       "      <td>2.6</td>\n",
       "      <td>Asik, Omer</td>\n",
       "      <td>3.5</td>\n",
       "      <td>8.3</td>\n",
       "      <td>Paint</td>\n",
       "      <td>C</td>\n",
       "      <td>0.4011</td>\n",
       "      <td>13</td>\n",
       "      <td>21400001</td>\n",
       "      <td>381</td>\n",
       "      <td>203932</td>\n",
       "      <td>NOP</td>\n",
       "      <td>ORL</td>\n",
       "      <td>0</td>\n",
       "      <td>0</td>\n",
       "      <td>0</td>\n",
       "      <td>0</td>\n",
       "    </tr>\n",
       "    <tr>\n",
       "      <th>4</th>\n",
       "      <td>Aaron Gordon</td>\n",
       "      <td>Orlando Magic</td>\n",
       "      <td>2014-10-28</td>\n",
       "      <td>2014</td>\n",
       "      <td>10</td>\n",
       "      <td>4</td>\n",
       "      <td>5</td>\n",
       "      <td>58</td>\n",
       "      <td>0</td>\n",
       "      <td>Jump Shot</td>\n",
       "      <td>2</td>\n",
       "      <td>11</td>\n",
       "      <td>New Orleans Pelicans</td>\n",
       "      <td>46</td>\n",
       "      <td>105</td>\n",
       "      <td>7</td>\n",
       "      <td>6.2</td>\n",
       "      <td>Davis, Anthony</td>\n",
       "      <td>4.8</td>\n",
       "      <td>1.5</td>\n",
       "      <td>Paint</td>\n",
       "      <td>L</td>\n",
       "      <td>0.3841</td>\n",
       "      <td>13</td>\n",
       "      <td>21400001</td>\n",
       "      <td>524</td>\n",
       "      <td>203932</td>\n",
       "      <td>NOP</td>\n",
       "      <td>ORL</td>\n",
       "      <td>0</td>\n",
       "      <td>1</td>\n",
       "      <td>0</td>\n",
       "      <td>0</td>\n",
       "    </tr>\n",
       "  </tbody>\n",
       "</table>\n",
       "</div>"
      ],
      "text/plain": [
       "           name      team_name  game_date  season  team_id  period  \\\n",
       "0  Aaron Gordon  Orlando Magic 2014-10-28    2014       10       2   \n",
       "1  Aaron Gordon  Orlando Magic 2014-10-28    2014       10       2   \n",
       "2  Aaron Gordon  Orlando Magic 2014-10-28    2014       10       2   \n",
       "3  Aaron Gordon  Orlando Magic 2014-10-28    2014       10       3   \n",
       "4  Aaron Gordon  Orlando Magic 2014-10-28    2014       10       4   \n",
       "\n",
       "   minutes_remaining  seconds_remaining  shot_made_flag action_type  \\\n",
       "0                 11                 34               1   Jump Shot   \n",
       "1                  9                 13               1   Jump Shot   \n",
       "2                  2                 55               0   Jump Shot   \n",
       "3                  5                  1               1   Jump Shot   \n",
       "4                  5                 58               0   Jump Shot   \n",
       "\n",
       "   shot_type  shot_distance              opponent    x    y  dribbles  \\\n",
       "0          2              4  New Orleans Pelicans  -10   44         4   \n",
       "1          3             23  New Orleans Pelicans -233   20         0   \n",
       "2          3             23  New Orleans Pelicans -234    0         0   \n",
       "3          2              5  New Orleans Pelicans   -9   58         2   \n",
       "4          2             11  New Orleans Pelicans   46  105         7   \n",
       "\n",
       "   touch_time   defender_name  defender_distance  shot_clock shot_zone  \\\n",
       "0         5.1  Anderson, Ryan                3.9         0.6     Paint   \n",
       "1         0.7   Evans, Tyreke                4.3         7.4  Corner 3   \n",
       "2         0.9    Gordon, Eric               12.5        14.8  Corner 3   \n",
       "3         2.6      Asik, Omer                3.5         8.3     Paint   \n",
       "4         6.2  Davis, Anthony                4.8         1.5     Paint   \n",
       "\n",
       "  shot_area  lg_avg  opp_id   GAME_ID  GAME_EVENT_ID  PLAYER_ID  HTM  VTM  \\\n",
       "0         C  0.4011      13  21400001            164     203932  NOP  ORL   \n",
       "1         R  0.3915      13  21400001            198     203932  NOP  ORL   \n",
       "2         R  0.3915      13  21400001            275     203932  NOP  ORL   \n",
       "3         C  0.4011      13  21400001            381     203932  NOP  ORL   \n",
       "4         L  0.3841      13  21400001            524     203932  NOP  ORL   \n",
       "\n",
       "   is_home  prev_shot_made  prev_2_made  prev_3_made  \n",
       "0        0               0            0            0  \n",
       "1        0               1            0            0  \n",
       "2        0               1            1            0  \n",
       "3        0               0            0            0  \n",
       "4        0               1            0            0  "
      ]
     },
     "execution_count": 37,
     "metadata": {},
     "output_type": "execute_result"
    }
   ],
   "source": [
    "sorted_df.head()"
   ]
  },
  {
   "cell_type": "code",
   "execution_count": 39,
   "metadata": {},
   "outputs": [],
   "source": [
    "positions = stats[['Player','Pos','Age']]"
   ]
  },
  {
   "cell_type": "code",
   "execution_count": 46,
   "metadata": {},
   "outputs": [],
   "source": [
    "sorted_df = sorted_df.merge(positions, left_on='name', right_on='Player').drop(columns=['Player'])\n",
    "sorted_df.columns = map(str.lower, sorted_df.columns)"
   ]
  },
  {
   "cell_type": "code",
   "execution_count": 55,
   "metadata": {},
   "outputs": [],
   "source": [
    "#rearrange columns for better visability\n",
    "sorted_df = sorted_df[['name','pos','age','player_id', 'team_name', 'team_id', 'game_date',\n",
    "       'game_id', 'game_event_id','season', 'period',\n",
    "       'minutes_remaining', 'seconds_remaining', 'shot_made_flag',\n",
    "       'action_type', 'shot_type', 'shot_distance', 'x', 'y',\n",
    "       'dribbles', 'touch_time', 'opponent', 'opp_id', 'defender_name', 'defender_distance',\n",
    "       'shot_clock', 'shot_zone', 'shot_area', 'lg_avg','htm', 'vtm',\n",
    "       'is_home', 'prev_shot_made', 'prev_2_made', 'prev_3_made']]"
   ]
  },
  {
   "cell_type": "code",
   "execution_count": 58,
   "metadata": {
    "scrolled": true
   },
   "outputs": [
    {
     "data": {
      "text/html": [
       "<div>\n",
       "<style scoped>\n",
       "    .dataframe tbody tr th:only-of-type {\n",
       "        vertical-align: middle;\n",
       "    }\n",
       "\n",
       "    .dataframe tbody tr th {\n",
       "        vertical-align: top;\n",
       "    }\n",
       "\n",
       "    .dataframe thead th {\n",
       "        text-align: right;\n",
       "    }\n",
       "</style>\n",
       "<table border=\"1\" class=\"dataframe\">\n",
       "  <thead>\n",
       "    <tr style=\"text-align: right;\">\n",
       "      <th></th>\n",
       "      <th>name</th>\n",
       "      <th>pos</th>\n",
       "      <th>age</th>\n",
       "      <th>player_id</th>\n",
       "      <th>team_name</th>\n",
       "      <th>team_id</th>\n",
       "      <th>game_date</th>\n",
       "      <th>game_id</th>\n",
       "      <th>game_event_id</th>\n",
       "      <th>season</th>\n",
       "      <th>period</th>\n",
       "      <th>minutes_remaining</th>\n",
       "      <th>seconds_remaining</th>\n",
       "      <th>shot_made_flag</th>\n",
       "      <th>action_type</th>\n",
       "      <th>shot_type</th>\n",
       "      <th>shot_distance</th>\n",
       "      <th>x</th>\n",
       "      <th>y</th>\n",
       "      <th>dribbles</th>\n",
       "      <th>touch_time</th>\n",
       "      <th>opponent</th>\n",
       "      <th>opp_id</th>\n",
       "      <th>defender_name</th>\n",
       "      <th>defender_distance</th>\n",
       "      <th>shot_clock</th>\n",
       "      <th>shot_zone</th>\n",
       "      <th>shot_area</th>\n",
       "      <th>lg_avg</th>\n",
       "      <th>htm</th>\n",
       "      <th>vtm</th>\n",
       "      <th>is_home</th>\n",
       "      <th>prev_shot_made</th>\n",
       "      <th>prev_2_made</th>\n",
       "      <th>prev_3_made</th>\n",
       "    </tr>\n",
       "  </thead>\n",
       "  <tbody>\n",
       "    <tr>\n",
       "      <th>205534</th>\n",
       "      <td>Vander Blue</td>\n",
       "      <td>SG</td>\n",
       "      <td>22</td>\n",
       "      <td>203505</td>\n",
       "      <td>Los Angeles Lakers</td>\n",
       "      <td>22</td>\n",
       "      <td>2015-04-15</td>\n",
       "      <td>21401230</td>\n",
       "      <td>508</td>\n",
       "      <td>2014</td>\n",
       "      <td>4</td>\n",
       "      <td>5</td>\n",
       "      <td>25</td>\n",
       "      <td>1</td>\n",
       "      <td>Turnaround Jump Shot</td>\n",
       "      <td>2</td>\n",
       "      <td>20</td>\n",
       "      <td>125</td>\n",
       "      <td>165</td>\n",
       "      <td>0</td>\n",
       "      <td>1.1</td>\n",
       "      <td>Sacramento Kings</td>\n",
       "      <td>11</td>\n",
       "      <td>Stockton, David</td>\n",
       "      <td>9.6</td>\n",
       "      <td>8.7</td>\n",
       "      <td>Mid Range</td>\n",
       "      <td>L</td>\n",
       "      <td>0.3925</td>\n",
       "      <td>LAL</td>\n",
       "      <td>SAC</td>\n",
       "      <td>1</td>\n",
       "      <td>0</td>\n",
       "      <td>0</td>\n",
       "      <td>0</td>\n",
       "    </tr>\n",
       "    <tr>\n",
       "      <th>205535</th>\n",
       "      <td>Vander Blue</td>\n",
       "      <td>SG</td>\n",
       "      <td>22</td>\n",
       "      <td>203505</td>\n",
       "      <td>Los Angeles Lakers</td>\n",
       "      <td>22</td>\n",
       "      <td>2015-04-15</td>\n",
       "      <td>21401230</td>\n",
       "      <td>521</td>\n",
       "      <td>2014</td>\n",
       "      <td>4</td>\n",
       "      <td>4</td>\n",
       "      <td>4</td>\n",
       "      <td>0</td>\n",
       "      <td>Jump Shot</td>\n",
       "      <td>2</td>\n",
       "      <td>16</td>\n",
       "      <td>109</td>\n",
       "      <td>126</td>\n",
       "      <td>10</td>\n",
       "      <td>9.3</td>\n",
       "      <td>Sacramento Kings</td>\n",
       "      <td>11</td>\n",
       "      <td>Stockton, David</td>\n",
       "      <td>3.1</td>\n",
       "      <td>12.7</td>\n",
       "      <td>Mid Range</td>\n",
       "      <td>L</td>\n",
       "      <td>0.3925</td>\n",
       "      <td>LAL</td>\n",
       "      <td>SAC</td>\n",
       "      <td>1</td>\n",
       "      <td>1</td>\n",
       "      <td>0</td>\n",
       "      <td>0</td>\n",
       "    </tr>\n",
       "    <tr>\n",
       "      <th>205536</th>\n",
       "      <td>Vander Blue</td>\n",
       "      <td>SG</td>\n",
       "      <td>22</td>\n",
       "      <td>203505</td>\n",
       "      <td>Los Angeles Lakers</td>\n",
       "      <td>22</td>\n",
       "      <td>2015-04-15</td>\n",
       "      <td>21401230</td>\n",
       "      <td>565</td>\n",
       "      <td>2014</td>\n",
       "      <td>4</td>\n",
       "      <td>1</td>\n",
       "      <td>8</td>\n",
       "      <td>0</td>\n",
       "      <td>Running Jump Shot</td>\n",
       "      <td>2</td>\n",
       "      <td>16</td>\n",
       "      <td>51</td>\n",
       "      <td>154</td>\n",
       "      <td>7</td>\n",
       "      <td>7.9</td>\n",
       "      <td>Sacramento Kings</td>\n",
       "      <td>11</td>\n",
       "      <td>Stockton, David</td>\n",
       "      <td>1.4</td>\n",
       "      <td>14.2</td>\n",
       "      <td>Mid Range</td>\n",
       "      <td>C</td>\n",
       "      <td>0.3994</td>\n",
       "      <td>LAL</td>\n",
       "      <td>SAC</td>\n",
       "      <td>1</td>\n",
       "      <td>0</td>\n",
       "      <td>0</td>\n",
       "      <td>0</td>\n",
       "    </tr>\n",
       "    <tr>\n",
       "      <th>205537</th>\n",
       "      <td>Jamaal Franklin</td>\n",
       "      <td>SG</td>\n",
       "      <td>23</td>\n",
       "      <td>203479</td>\n",
       "      <td>Denver Nuggets</td>\n",
       "      <td>19</td>\n",
       "      <td>2015-04-15</td>\n",
       "      <td>21401229</td>\n",
       "      <td>500</td>\n",
       "      <td>2014</td>\n",
       "      <td>4</td>\n",
       "      <td>5</td>\n",
       "      <td>33</td>\n",
       "      <td>1</td>\n",
       "      <td>Pullup Jump shot</td>\n",
       "      <td>3</td>\n",
       "      <td>26</td>\n",
       "      <td>59</td>\n",
       "      <td>257</td>\n",
       "      <td>1</td>\n",
       "      <td>2.7</td>\n",
       "      <td>Golden State Warriors</td>\n",
       "      <td>15</td>\n",
       "      <td>Livingston, Shaun</td>\n",
       "      <td>3.5</td>\n",
       "      <td>14.0</td>\n",
       "      <td>Above Break 3</td>\n",
       "      <td>C</td>\n",
       "      <td>0.3415</td>\n",
       "      <td>GSW</td>\n",
       "      <td>DEN</td>\n",
       "      <td>0</td>\n",
       "      <td>0</td>\n",
       "      <td>0</td>\n",
       "      <td>0</td>\n",
       "    </tr>\n",
       "    <tr>\n",
       "      <th>205538</th>\n",
       "      <td>Jamaal Franklin</td>\n",
       "      <td>SG</td>\n",
       "      <td>23</td>\n",
       "      <td>203479</td>\n",
       "      <td>Denver Nuggets</td>\n",
       "      <td>19</td>\n",
       "      <td>2015-04-15</td>\n",
       "      <td>21401229</td>\n",
       "      <td>563</td>\n",
       "      <td>2014</td>\n",
       "      <td>4</td>\n",
       "      <td>2</td>\n",
       "      <td>8</td>\n",
       "      <td>0</td>\n",
       "      <td>Pullup Jump shot</td>\n",
       "      <td>3</td>\n",
       "      <td>26</td>\n",
       "      <td>-72</td>\n",
       "      <td>252</td>\n",
       "      <td>1</td>\n",
       "      <td>1.9</td>\n",
       "      <td>Golden State Warriors</td>\n",
       "      <td>15</td>\n",
       "      <td>Rush, Brandon</td>\n",
       "      <td>4.2</td>\n",
       "      <td>11.8</td>\n",
       "      <td>Above Break 3</td>\n",
       "      <td>C</td>\n",
       "      <td>0.3415</td>\n",
       "      <td>GSW</td>\n",
       "      <td>DEN</td>\n",
       "      <td>0</td>\n",
       "      <td>1</td>\n",
       "      <td>0</td>\n",
       "      <td>0</td>\n",
       "    </tr>\n",
       "  </tbody>\n",
       "</table>\n",
       "</div>"
      ],
      "text/plain": [
       "                   name pos  age  player_id           team_name  team_id  \\\n",
       "205534      Vander Blue  SG   22     203505  Los Angeles Lakers       22   \n",
       "205535      Vander Blue  SG   22     203505  Los Angeles Lakers       22   \n",
       "205536      Vander Blue  SG   22     203505  Los Angeles Lakers       22   \n",
       "205537  Jamaal Franklin  SG   23     203479      Denver Nuggets       19   \n",
       "205538  Jamaal Franklin  SG   23     203479      Denver Nuggets       19   \n",
       "\n",
       "        game_date   game_id  game_event_id  season  period  minutes_remaining  \\\n",
       "205534 2015-04-15  21401230            508    2014       4                  5   \n",
       "205535 2015-04-15  21401230            521    2014       4                  4   \n",
       "205536 2015-04-15  21401230            565    2014       4                  1   \n",
       "205537 2015-04-15  21401229            500    2014       4                  5   \n",
       "205538 2015-04-15  21401229            563    2014       4                  2   \n",
       "\n",
       "        seconds_remaining  shot_made_flag           action_type  shot_type  \\\n",
       "205534                 25               1  Turnaround Jump Shot          2   \n",
       "205535                  4               0             Jump Shot          2   \n",
       "205536                  8               0     Running Jump Shot          2   \n",
       "205537                 33               1      Pullup Jump shot          3   \n",
       "205538                  8               0      Pullup Jump shot          3   \n",
       "\n",
       "        shot_distance    x    y  dribbles  touch_time               opponent  \\\n",
       "205534             20  125  165         0         1.1       Sacramento Kings   \n",
       "205535             16  109  126        10         9.3       Sacramento Kings   \n",
       "205536             16   51  154         7         7.9       Sacramento Kings   \n",
       "205537             26   59  257         1         2.7  Golden State Warriors   \n",
       "205538             26  -72  252         1         1.9  Golden State Warriors   \n",
       "\n",
       "        opp_id      defender_name  defender_distance  shot_clock  \\\n",
       "205534      11    Stockton, David                9.6         8.7   \n",
       "205535      11    Stockton, David                3.1        12.7   \n",
       "205536      11    Stockton, David                1.4        14.2   \n",
       "205537      15  Livingston, Shaun                3.5        14.0   \n",
       "205538      15      Rush, Brandon                4.2        11.8   \n",
       "\n",
       "            shot_zone shot_area  lg_avg  htm  vtm  is_home  prev_shot_made  \\\n",
       "205534      Mid Range         L  0.3925  LAL  SAC        1               0   \n",
       "205535      Mid Range         L  0.3925  LAL  SAC        1               1   \n",
       "205536      Mid Range         C  0.3994  LAL  SAC        1               0   \n",
       "205537  Above Break 3         C  0.3415  GSW  DEN        0               0   \n",
       "205538  Above Break 3         C  0.3415  GSW  DEN        0               1   \n",
       "\n",
       "        prev_2_made  prev_3_made  \n",
       "205534            0            0  \n",
       "205535            0            0  \n",
       "205536            0            0  \n",
       "205537            0            0  \n",
       "205538            0            0  "
      ]
     },
     "execution_count": 58,
     "metadata": {},
     "output_type": "execute_result"
    }
   ],
   "source": [
    "sorted_df.tail()"
   ]
  },
  {
   "cell_type": "markdown",
   "metadata": {},
   "source": [
    "## Final cleaning and export"
   ]
  },
  {
   "cell_type": "code",
   "execution_count": 75,
   "metadata": {},
   "outputs": [],
   "source": [
    "#clean positions down to 5 standard positions (no combos)\n",
    "sorted_df.pos[sorted_df.name=='Giannis Antetokounmpo'] = 'SF'\n",
    "\n",
    "sorted_df.pos[sorted_df.pos=='PG-SG']='SG'\n",
    "sorted_df.pos[sorted_df.pos=='SF-SG'] = 'SF'\n",
    "sorted_df.pos[sorted_df.pos=='SG-PG'] = 'PG'\n",
    "sorted_df.pos[sorted_df.pos=='PF-SF'] = 'SF'\n",
    "sorted_df.pos[sorted_df.pos=='SF-PF'] = 'PF'\n",
    "sorted_df.pos[sorted_df.pos=='SG-SF'] = 'SF'\n",
    "\n"
   ]
  },
  {
   "cell_type": "code",
   "execution_count": null,
   "metadata": {},
   "outputs": [],
   "source": []
  },
  {
   "cell_type": "code",
   "execution_count": 493,
   "metadata": {},
   "outputs": [],
   "source": [
    "# players \n",
    "    # name | team | \n",
    "# shots \n",
    "    # |player_id| zone name| area| made? \n",
    "    # \n",
    "# def player_shots()    \n",
    "    # shots[shots[player_id] == id]\n",
    "    \n",
    "# def shots_by_zone(shots):\n",
    "# \"\"\" first zone\"\"\"\n",
    "#     returns {'2' = [[], , {}]}\n",
    "\n",
    "# shots = player_shots('bob koozie')\n",
    "# shots_by_zone(shots)\n",
    "\n",
    "# iterate through every player \n",
    "# retrieve each player's shots\n",
    "# for each zone\n",
    "# retreive shots taken\n",
    "# retrieve shots scored \n",
    "# \n",
    "\n",
    "def get_fg_pct_by_player_for_each_zone(df):\n",
    "    start = time.time()\n",
    "    player_names = list(df.name.unique())\n",
    "    df_list = []\n",
    "\n",
    "    for c, player in enumerate(player_names):\n",
    "        df_ = df[df.name==player].reset_index(drop=True)\n",
    "        shot_arr = np.zeros((len(df_),26))\n",
    "\n",
    "        if (c+1)%100==0:\n",
    "            print('Runtime: {} seconds. {} of {} players completed.'.format(round(time.time()-start,2), c+1, len(player_names)))\n",
    "        for index, row in df_.iterrows():\n",
    "            if index != 0:\n",
    "                shot_arr[index,:] = shot_arr[index-1,:]\n",
    "            if row.shot_zone=='Mid Range':\n",
    "                if row.shot_area=='R':\n",
    "                    if row.shot_made_flag==1:\n",
    "                        shot_arr[index,0:2]+=[1,1]\n",
    "                    else:\n",
    "                        shot_arr[index,0:2]+=[0,1]\n",
    "                elif row.shot_area=='C':\n",
    "                    if row.shot_made_flag==1:\n",
    "                        shot_arr[index,2:4]+=[1,1]\n",
    "                    else:\n",
    "                        shot_arr[index,2:4]+=[0,1]\n",
    "                else:\n",
    "                    if row.shot_made_flag==1:\n",
    "                        shot_arr[index,4:6]+=[1,1]\n",
    "                    else:\n",
    "                        shot_arr[index,4:6]+=[0,1]\n",
    "            elif row.shot_zone=='Restricted Area':\n",
    "                if row.shot_made_flag==1:\n",
    "                    shot_arr[index,6:8]+=[1,1]\n",
    "                else:\n",
    "                    shot_arr[index,6:8]+=[0,1]\n",
    "            elif row.shot_zone=='Heave':\n",
    "                if row.shot_made_flag==1:\n",
    "                    shot_arr[index,8:10]+=[1,1]\n",
    "                else:\n",
    "                    shot_arr[index,8:10]+=[0,1]\n",
    "            elif row.shot_zone=='Above Break 3':\n",
    "                if row.shot_area=='R':\n",
    "                    if row.shot_made_flag==1:\n",
    "                        shot_arr[index,10:12]+=[1,1]\n",
    "                    else:\n",
    "                        shot_arr[index,10:12]+=[0,1]\n",
    "                elif row.shot_area=='C':\n",
    "                    if row.shot_made_flag==1:\n",
    "                        shot_arr[index,12:14]+=[1,1]\n",
    "                    else:\n",
    "                        shot_arr[index,12:14]+=[0,1]\n",
    "                else:\n",
    "                    if row.shot_made_flag==1:\n",
    "                        shot_arr[index,14:16]+=[1,1]\n",
    "                    else:\n",
    "                        shot_arr[index,14:16]+=[0,1]\n",
    "            elif row.shot_zone=='Paint':\n",
    "                if row.shot_area=='R':\n",
    "                    if row.shot_made_flag==1:\n",
    "                        shot_arr[index,16:18]+=[1,1]\n",
    "                    else:\n",
    "                        shot_arr[index,16:18]+=[0,1]\n",
    "                elif row.shot_area=='C':\n",
    "                    if row.shot_made_flag==1:\n",
    "                        shot_arr[index,18:20]+=[1,1]\n",
    "                    else:\n",
    "                        shot_arr[index,18:20]+=[0,1]\n",
    "                else:\n",
    "                    if row.shot_made_flag==1:\n",
    "                        shot_arr[index,20:22]+=[1,1]\n",
    "                    else:\n",
    "                        shot_arr[index,20:22]+=[0,1]\n",
    "            elif row.shot_zone=='Corner 3':\n",
    "                if row.shot_area=='R':\n",
    "                    if row.shot_made_flag==1:\n",
    "                        shot_arr[index,22:24]+=[1,1]\n",
    "                    else:\n",
    "                        shot_arr[index,22:24]+=[0,1]\n",
    "                else:\n",
    "                    if row.shot_made_flag==1:\n",
    "                        shot_arr[index,24:26]+=[1,1]\n",
    "                    else:\n",
    "                        shot_arr[index,24:26]+=[0,1]\n",
    "\n",
    "        df_list.append(pd.DataFrame(shot_arr,index=df_.name))\n",
    "\n",
    "    print('Total Runtime: {} seconds.'.format(round(time.time()-start,2),\n",
    "                                              c, len(player_names)))\n",
    "    return df_list"
   ]
  },
  {
   "cell_type": "code",
   "execution_count": 574,
   "metadata": {},
   "outputs": [],
   "source": [
    "def add_zone_fg_pct_to_df(df):\n",
    "    df_list = get_fg_pct_by_player_for_each_zone(df)\n",
    "    zone_df = pd.concat([df_ for df_ in df_list])\n",
    "    \n",
    "    column_names = ['mid_R_pct', 'mid_C_pct', 'mid_L_pct', 'restricted_pct', 'heave_pct', 'ab_3_R_pct', 'ab_3_C_pct',\n",
    "                'ab_3_L_pct', 'paint_R_pct', 'paint_C_pct', 'paint_L_pct', 'corner_3_R_pct', 'corner_3_L_pct',]    \n",
    "\n",
    "    counter = 0\n",
    "    for col in column_names:\n",
    "        zone_df[col] = np.round(zone_df[counter]/zone_df[counter+1],4)\n",
    "        counter+=2\n",
    "        \n",
    "    zone_df = zone_df.drop(columns=list(range(0,26))).reset_index().rename(columns={\n",
    "                                                                    'name':'player_name'})\n",
    "    zone_fg_df = pd.concat((sorted_df,zone_df),axis=1)\n",
    "    \n",
    "    return zone_fg_df.drop(columns=['player_name'])\n"
   ]
  },
  {
   "cell_type": "code",
   "execution_count": 575,
   "metadata": {
    "scrolled": true
   },
   "outputs": [
    {
     "name": "stdout",
     "output_type": "stream",
     "text": [
      "Runtime: 13.34 seconds. 100 of 490 players completed.\n",
      "Runtime: 27.03 seconds. 200 of 490 players completed.\n",
      "Runtime: 39.58 seconds. 300 of 490 players completed.\n",
      "Runtime: 47.93 seconds. 400 of 490 players completed.\n",
      "Total Runtime: 51.96 seconds.\n"
     ]
    }
   ],
   "source": [
    "zone_fg_df = add_zone_fg_pct_to_df(sorted_df)"
   ]
  },
  {
   "cell_type": "code",
   "execution_count": 581,
   "metadata": {},
   "outputs": [
    {
     "data": {
      "text/plain": [
       "name                 0\n",
       "pos                  0\n",
       "age                  0\n",
       "player_id            0\n",
       "team_name            0\n",
       "team_id              0\n",
       "game_date            0\n",
       "game_id              0\n",
       "game_event_id        0\n",
       "season               0\n",
       "period               0\n",
       "minutes_remaining    0\n",
       "seconds_remaining    0\n",
       "shot_made_flag       0\n",
       "action_type          0\n",
       "shot_type            0\n",
       "shot_distance        0\n",
       "x                    0\n",
       "y                    0\n",
       "dribbles             0\n",
       "touch_time           0\n",
       "opponent             0\n",
       "opp_id               0\n",
       "defender_name        0\n",
       "defender_distance    0\n",
       "shot_clock           0\n",
       "shot_zone            0\n",
       "shot_area            0\n",
       "lg_avg               0\n",
       "htm                  0\n",
       "vtm                  0\n",
       "is_home              0\n",
       "prev_shot_made       0\n",
       "prev_2_made          0\n",
       "prev_3_made          0\n",
       "mid_R_pct            0\n",
       "mid_C_pct            0\n",
       "mid_L_pct            0\n",
       "restricted_pct       0\n",
       "heave_pct            0\n",
       "ab_3_R_pct           0\n",
       "ab_3_C_pct           0\n",
       "ab_3_L_pct           0\n",
       "paint_R_pct          0\n",
       "paint_C_pct          0\n",
       "paint_L_pct          0\n",
       "corner_3_R_pct       0\n",
       "corner_3_L_pct       0\n",
       "dtype: int64"
      ]
     },
     "execution_count": 581,
     "metadata": {},
     "output_type": "execute_result"
    }
   ],
   "source": [
    "#fill null values with 0\n",
    "zone_fg_df = zone_fg_df.fillna(value=0)"
   ]
  },
  {
   "cell_type": "code",
   "execution_count": 582,
   "metadata": {},
   "outputs": [],
   "source": [
    "#export as csv\n",
    "zone_fg_df.to_csv('./data/sorted_df_14_15.csv')"
   ]
  },
  {
   "cell_type": "code",
   "execution_count": null,
   "metadata": {},
   "outputs": [],
   "source": []
  }
 ],
 "metadata": {
  "extensions": {
   "jupyter_dashboards": {
    "activeView": "grid_default",
    "version": 1,
    "views": {
     "grid_default": {
      "cellMargin": 10,
      "defaultCellHeight": 20,
      "maxColumns": 12,
      "name": "grid",
      "type": "grid"
     },
     "report_default": {
      "name": "report",
      "type": "report"
     }
    }
   }
  },
  "kernelspec": {
   "display_name": "Python 3",
   "language": "python",
   "name": "python3"
  },
  "language_info": {
   "codemirror_mode": {
    "name": "ipython",
    "version": 3
   },
   "file_extension": ".py",
   "mimetype": "text/x-python",
   "name": "python",
   "nbconvert_exporter": "python",
   "pygments_lexer": "ipython3",
   "version": "3.6.5"
  }
 },
 "nbformat": 4,
 "nbformat_minor": 2
}
